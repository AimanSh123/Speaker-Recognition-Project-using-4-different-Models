{
  "nbformat": 4,
  "nbformat_minor": 0,
  "metadata": {
    "colab": {
      "provenance": [],
      "mount_file_id": "1zF5yZ9u1Q612AYNCvBHjJRoArHIn1dTi",
      "authorship_tag": "ABX9TyN27X7XivNzNktVk6OLHgCK",
      "include_colab_link": true
    },
    "kernelspec": {
      "name": "python3",
      "display_name": "Python 3"
    },
    "language_info": {
      "name": "python"
    }
  },
  "cells": [
    {
      "cell_type": "markdown",
      "metadata": {
        "id": "view-in-github",
        "colab_type": "text"
      },
      "source": [
        "<a href=\"https://colab.research.google.com/github/AimanSh123/Speaker-Recognition-Project-using-4-different-Models/blob/main/SpeakerRecongition_Novel.ipynb\" target=\"_parent\"><img src=\"https://colab.research.google.com/assets/colab-badge.svg\" alt=\"Open In Colab\"/></a>"
      ]
    },
    {
      "cell_type": "code",
      "execution_count": 149,
      "metadata": {
        "id": "K-rMu8GD4dQg"
      },
      "outputs": [],
      "source": [
        "CREATE_CSV_FILES = True"
      ]
    },
    {
      "cell_type": "code",
      "source": [
        "TEST_CSV_FILE = \"/content/drive/MyDrive/test_novel.csv\"\n",
        "# \"/content/drive/MyDrive/test\""
      ],
      "metadata": {
        "id": "OWXhFMlQ4rCG"
      },
      "execution_count": 150,
      "outputs": []
    },
    {
      "cell_type": "code",
      "source": [
        "TRAIN_CSV_FILE = \"/content/drive/MyDrive/train_novel.csv\"\n",
        "#\"/content/drive/MyDrive/train\""
      ],
      "metadata": {
        "id": "Q2Ym_VlF4u3u"
      },
      "execution_count": 151,
      "outputs": []
    },
    {
      "cell_type": "code",
      "source": [
        "import matplotlib.pyplot as plt\n",
        "import numpy as np\n",
        "from matplotlib import cm\n",
        "import librosa\n",
        "import csv\n",
        "import os\n",
        "\n",
        "def extractWavFeatures(soundFilesFolder, csvFileName):\n",
        "    print(\"The features of the files in the folder \"+soundFilesFolder+\" will be saved to \"+csvFileName)\n",
        "    header = 'filename chroma_stft rmse spectral_centroid spectral_bandwidth rolloff zero_crossing_rate'\n",
        "    for i in range(1, 21):\n",
        "        header += f' mfcc{i}'\n",
        "    header += ' label'\n",
        "    header = header.split()\n",
        "    print('CSV Header: ', header)\n",
        "    file = open(csvFileName, 'w', newline='')\n",
        "    #with file:\n",
        "    writer = csv.writer(file)\n",
        "    writer.writerow(header)\n",
        "    genres = '1 2 3 4 5 6 7 8 9 0'.split()\n",
        "    for filename in os.listdir(soundFilesFolder):\n",
        "        number = f'{soundFilesFolder}/{filename}'\n",
        "        y, sr = librosa.load(number, mono=True, duration=30)\n",
        "        # remove leading and trailing silence\n",
        "        y, index = librosa.effects.trim(y)\n",
        "        chroma_stft = librosa.feature.chroma_stft(y=y, sr=sr)\n",
        "        rmse = librosa.feature.rms(y=y)\n",
        "        spec_cent = librosa.feature.spectral_centroid(y=y, sr=sr)\n",
        "        spec_bw = librosa.feature.spectral_bandwidth(y=y, sr=sr)\n",
        "        rolloff = librosa.feature.spectral_rolloff(y=y, sr=sr)\n",
        "        zcr = librosa.feature.zero_crossing_rate(y)\n",
        "        mfcc = librosa.feature.mfcc(y=y, sr=sr)\n",
        "        to_append = f'{filename} {np.mean(chroma_stft)} {np.mean(rmse)} {np.mean(spec_cent)} {np.mean(spec_bw)} {np.mean(rolloff)} {np.mean(zcr)}'\n",
        "        for e in mfcc:\n",
        "            to_append += f' {np.mean(e)}'\n",
        "        writer.writerow(to_append.split())\n",
        "    file.close()\n",
        "    print(\"End of extractWavFeatures\")\n",
        "\n",
        "if (CREATE_CSV_FILES == True):\n",
        "    extractWavFeatures(\"/content/drive/MyDrive/train_novel\", TRAIN_CSV_FILE)\n",
        "    extractWavFeatures(\"/content/drive/MyDrive/test_novel\", TEST_CSV_FILE)\n",
        "    # extractWavFeatures(\"/content/drive/MyDrive/moreSpeakersTrain\", MORE_TRAIN_CSV_FILE)\n",
        "    # extractWavFeatures(\"/content/drive/MyDrive/moreSpeakersTest\", MORE_TEST_CSV_FILE)\n",
        "    print(\"CSV files are created\")\n",
        "else:\n",
        "    print(\"CSV files creation is skipped\")\n"
      ],
      "metadata": {
        "colab": {
          "base_uri": "https://localhost:8080/"
        },
        "id": "Mf4WZ5uP5jKF",
        "outputId": "1dce0f48-a512-4ee9-c413-9e2e905bbc94"
      },
      "execution_count": 152,
      "outputs": [
        {
          "output_type": "stream",
          "name": "stdout",
          "text": [
            "The features of the files in the folder /content/drive/MyDrive/train_novel will be saved to /content/drive/MyDrive/train_novel.csv\n",
            "CSV Header:  ['filename', 'chroma_stft', 'rmse', 'spectral_centroid', 'spectral_bandwidth', 'rolloff', 'zero_crossing_rate', 'mfcc1', 'mfcc2', 'mfcc3', 'mfcc4', 'mfcc5', 'mfcc6', 'mfcc7', 'mfcc8', 'mfcc9', 'mfcc10', 'mfcc11', 'mfcc12', 'mfcc13', 'mfcc14', 'mfcc15', 'mfcc16', 'mfcc17', 'mfcc18', 'mfcc19', 'mfcc20', 'label']\n",
            "End of extractWavFeatures\n",
            "The features of the files in the folder /content/drive/MyDrive/test_novel will be saved to /content/drive/MyDrive/test_novel.csv\n",
            "CSV Header:  ['filename', 'chroma_stft', 'rmse', 'spectral_centroid', 'spectral_bandwidth', 'rolloff', 'zero_crossing_rate', 'mfcc1', 'mfcc2', 'mfcc3', 'mfcc4', 'mfcc5', 'mfcc6', 'mfcc7', 'mfcc8', 'mfcc9', 'mfcc10', 'mfcc11', 'mfcc12', 'mfcc13', 'mfcc14', 'mfcc15', 'mfcc16', 'mfcc17', 'mfcc18', 'mfcc19', 'mfcc20', 'label']\n",
            "End of extractWavFeatures\n",
            "CSV files are created\n"
          ]
        }
      ]
    },
    {
      "cell_type": "code",
      "source": [
        "#Reading a dataset and convert file name to corresbonding umnber\n",
        "\n",
        "import pandas as pd\n",
        "import csv\n",
        "from sklearn import preprocessing\n",
        "\n",
        "def preProcessData(csvFileName):\n",
        "    print(csvFileName+ \" will be preprocessed\")\n",
        "    data = pd.read_csv(csvFileName)\n",
        "    filenameArray = data['filename'] \n",
        "    speakerArray = []\n",
        "    #print(filenameArray)\n",
        "    for i in range(len(filenameArray)):\n",
        "        speaker = filenameArray[i][3]\n",
        "        #print(speaker)\n",
        "        if speaker == \"A\":\n",
        "            speaker = \"0\"\n",
        "        elif speaker == \"s\":\n",
        "            speaker = \"1\"\n",
        "        elif speaker == \"I\":\n",
        "            speaker = \"2\"\n",
        "        elif speaker == \"J\":\n",
        "            speaker = \"3\"   \n",
        "        elif speaker == \"H\":\n",
        "            speaker = \"4\"\n",
        "        elif speaker == \"Z\":\n",
        "            speaker = \"5\"\n",
        "        elif speaker == \"M\":\n",
        "            speaker = \"6\"  \n",
        "        elif speaker == \"K\":\n",
        "            speaker = \"7\"                     \n",
        "        else: \n",
        "            speaker = \"8\"\n",
        "        #print(speaker)\n",
        "        speakerArray.append(speaker)\n",
        "    data['number'] = speakerArray\n",
        "    #Dropping unnecessary columns\n",
        "    data = data.drop(['filename'],axis=1)\n",
        "    data = data.drop(['label'],axis=1)\n",
        "    data = data.drop(['chroma_stft'],axis=1)\n",
        "    data.shape\n",
        "\n",
        "    print(\"Preprocessing is finished\")\n",
        "    print(data.head())\n",
        "    return data\n",
        "\n",
        "trainData = preProcessData(TRAIN_CSV_FILE)\n",
        "testData = preProcessData(TEST_CSV_FILE)\n",
        "# moreTrainData = preProcessData(MORE_TRAIN_CSV_FILE)\n",
        "# moreTestData = preProcessData(MORE_TEST_CSV_FILE)\n"
      ],
      "metadata": {
        "colab": {
          "base_uri": "https://localhost:8080/"
        },
        "id": "A5yttWlLBCVq",
        "outputId": "9e9a5283-cda9-4cff-d719-2939d481dd86"
      },
      "execution_count": 153,
      "outputs": [
        {
          "output_type": "stream",
          "name": "stdout",
          "text": [
            "/content/drive/MyDrive/train_novel.csv will be preprocessed\n",
            "Preprocessing is finished\n",
            "       rmse  spectral_centroid  spectral_bandwidth      rolloff  \\\n",
            "0  0.090548        2433.785337         1937.172842  4677.764084   \n",
            "1  0.085492        2381.426023         1950.832888  4582.566088   \n",
            "2  0.095311        2304.894384         1899.827889  4485.658187   \n",
            "3  0.101062        2370.200991         1846.717243  4487.990570   \n",
            "4  0.074996        2253.645764         1893.216268  4399.353027   \n",
            "\n",
            "   zero_crossing_rate       mfcc1      mfcc2      mfcc3      mfcc4      mfcc5  \\\n",
            "0            0.141566 -350.833618  63.101856 -30.741991  30.045263 -23.090305   \n",
            "1            0.129349 -298.379089  78.663116 -33.587658  32.049206 -30.985176   \n",
            "2            0.124379 -297.264160  81.437286 -29.775564  33.900043 -27.111790   \n",
            "3            0.149979 -285.654327  84.446510 -46.729420  34.729500 -34.794926   \n",
            "4            0.128087 -327.343842  80.409477 -31.582376  23.104616 -26.307188   \n",
            "\n",
            "   ...    mfcc12     mfcc13     mfcc14     mfcc15     mfcc16     mfcc17  \\\n",
            "0  ... -7.762126 -15.911564 -11.792089  -7.990317 -13.221981 -14.485070   \n",
            "1  ... -4.261178 -10.891532 -10.588349 -16.803089 -13.360773 -12.107076   \n",
            "2  ... -8.623318 -11.148973  -4.006550  -8.660444 -15.508304 -11.918576   \n",
            "3  ... -7.718666 -10.964346  -5.520287 -11.607586 -11.620552 -11.641124   \n",
            "4  ... -8.202734  -7.445649  -6.695504 -11.394070 -10.353702  -8.886282   \n",
            "\n",
            "      mfcc18    mfcc19     mfcc20  number  \n",
            "0 -15.341043 -9.500538 -13.050703       0  \n",
            "1 -11.770944 -2.015636  -4.154508       0  \n",
            "2  -9.437393 -4.449818  -7.642701       0  \n",
            "3 -15.831322 -0.343296  -9.035004       0  \n",
            "4 -11.409397 -1.626587  -5.205202       0  \n",
            "\n",
            "[5 rows x 26 columns]\n",
            "/content/drive/MyDrive/test_novel.csv will be preprocessed\n",
            "Preprocessing is finished\n",
            "       rmse  spectral_centroid  spectral_bandwidth      rolloff  \\\n",
            "0  0.126785        2648.723962         1796.982171  4663.613281   \n",
            "1  0.078563        2464.796934         1983.579921  4779.698181   \n",
            "2  0.089094        2217.362897         1808.247460  4166.174033   \n",
            "3  0.017189        2448.627680         2129.520713  4826.435794   \n",
            "4  0.036397        2245.417232         1916.164381  4476.103984   \n",
            "\n",
            "   zero_crossing_rate       mfcc1      mfcc2      mfcc3      mfcc4      mfcc5  \\\n",
            "0            0.169651 -256.752228  68.110832 -50.667606  55.993759 -49.678764   \n",
            "1            0.151772 -303.438324  76.990936 -31.108273  30.367125 -28.395529   \n",
            "2            0.135799 -333.858795  52.414246 -30.227331  27.971853  -7.652184   \n",
            "3            0.155762 -477.223785  69.494179 -10.475737  10.638020 -19.114658   \n",
            "4            0.122900 -410.072449  41.059887 -31.780621  12.419344 -23.731609   \n",
            "\n",
            "   ...     mfcc12     mfcc13     mfcc14     mfcc15     mfcc16     mfcc17  \\\n",
            "0  ... -10.968534 -18.121143 -17.901714 -17.981760 -11.169325  -5.671929   \n",
            "1  ... -10.158226  -8.213091 -10.332180 -12.893850 -11.295340 -11.724480   \n",
            "2  ...  -2.864372   0.459975  -7.950249  -9.494720  -1.213234 -10.382182   \n",
            "3  ...   0.751678  -0.895053   5.650335   9.944688 -17.339437 -17.936390   \n",
            "4  ...   0.192177  10.791455  18.414387   8.811249  -8.174829 -12.409616   \n",
            "\n",
            "      mfcc18    mfcc19    mfcc20  number  \n",
            "0   4.888553  8.910767 -7.099139       0  \n",
            "1 -17.510422 -3.347441 -6.945740       0  \n",
            "2 -17.328150 -4.719575 -4.946824       1  \n",
            "3 -10.903296 -5.210977 -0.025913       7  \n",
            "4  -8.578332  4.464665 -5.926333       6  \n",
            "\n",
            "[5 rows x 26 columns]\n"
          ]
        }
      ]
    },
    {
      "cell_type": "code",
      "source": [
        "# Splitting the dataset into training and testing dataset\n",
        "from sklearn.model_selection import train_test_split\n",
        "X_train = np.array(trainData.iloc[:, :-1], dtype = float)\n",
        "y_train = np.array(trainData.iloc[:, -1:], dtype = float)\n",
        "\n",
        "X_test = np.array(testData.iloc[:, :-1], dtype = float)\n",
        "y_test = np.array(testData.iloc[:, -1:], dtype = float)\n",
        "\n",
        "print(\"Y from training data:\", y_train.shape)\n",
        "print(\"Y from test data:\", y_test.shape)"
      ],
      "metadata": {
        "colab": {
          "base_uri": "https://localhost:8080/"
        },
        "id": "EBt0MUHEEmMd",
        "outputId": "b3a6e06c-e5fd-443f-d153-564e6cc0316f"
      },
      "execution_count": 154,
      "outputs": [
        {
          "output_type": "stream",
          "name": "stdout",
          "text": [
            "Y from training data: (74, 1)\n",
            "Y from test data: (14, 1)\n"
          ]
        }
      ]
    },
    {
      "cell_type": "code",
      "source": [
        "from sklearn.ensemble import RandomForestRegressor\n",
        "  \n",
        " # create regressor object\n",
        "regressor = RandomForestRegressor(n_estimators = 100, random_state = 0)\n",
        "  \n",
        "# fit the regressor with x and y data\n",
        "regressor.fit(X_train, y_train)  "
      ],
      "metadata": {
        "colab": {
          "base_uri": "https://localhost:8080/",
          "height": 111
        },
        "id": "IQovDh6HFAMR",
        "outputId": "4010e8e1-5623-4643-9bf1-802b20c0d404"
      },
      "execution_count": 155,
      "outputs": [
        {
          "output_type": "stream",
          "name": "stderr",
          "text": [
            "<ipython-input-155-dd54d1bdebe3>:7: DataConversionWarning: A column-vector y was passed when a 1d array was expected. Please change the shape of y to (n_samples,), for example using ravel().\n",
            "  regressor.fit(X_train, y_train)\n"
          ]
        },
        {
          "output_type": "execute_result",
          "data": {
            "text/plain": [
              "RandomForestRegressor(random_state=0)"
            ],
            "text/html": [
              "<style>#sk-container-id-14 {color: black;background-color: white;}#sk-container-id-14 pre{padding: 0;}#sk-container-id-14 div.sk-toggleable {background-color: white;}#sk-container-id-14 label.sk-toggleable__label {cursor: pointer;display: block;width: 100%;margin-bottom: 0;padding: 0.3em;box-sizing: border-box;text-align: center;}#sk-container-id-14 label.sk-toggleable__label-arrow:before {content: \"▸\";float: left;margin-right: 0.25em;color: #696969;}#sk-container-id-14 label.sk-toggleable__label-arrow:hover:before {color: black;}#sk-container-id-14 div.sk-estimator:hover label.sk-toggleable__label-arrow:before {color: black;}#sk-container-id-14 div.sk-toggleable__content {max-height: 0;max-width: 0;overflow: hidden;text-align: left;background-color: #f0f8ff;}#sk-container-id-14 div.sk-toggleable__content pre {margin: 0.2em;color: black;border-radius: 0.25em;background-color: #f0f8ff;}#sk-container-id-14 input.sk-toggleable__control:checked~div.sk-toggleable__content {max-height: 200px;max-width: 100%;overflow: auto;}#sk-container-id-14 input.sk-toggleable__control:checked~label.sk-toggleable__label-arrow:before {content: \"▾\";}#sk-container-id-14 div.sk-estimator input.sk-toggleable__control:checked~label.sk-toggleable__label {background-color: #d4ebff;}#sk-container-id-14 div.sk-label input.sk-toggleable__control:checked~label.sk-toggleable__label {background-color: #d4ebff;}#sk-container-id-14 input.sk-hidden--visually {border: 0;clip: rect(1px 1px 1px 1px);clip: rect(1px, 1px, 1px, 1px);height: 1px;margin: -1px;overflow: hidden;padding: 0;position: absolute;width: 1px;}#sk-container-id-14 div.sk-estimator {font-family: monospace;background-color: #f0f8ff;border: 1px dotted black;border-radius: 0.25em;box-sizing: border-box;margin-bottom: 0.5em;}#sk-container-id-14 div.sk-estimator:hover {background-color: #d4ebff;}#sk-container-id-14 div.sk-parallel-item::after {content: \"\";width: 100%;border-bottom: 1px solid gray;flex-grow: 1;}#sk-container-id-14 div.sk-label:hover label.sk-toggleable__label {background-color: #d4ebff;}#sk-container-id-14 div.sk-serial::before {content: \"\";position: absolute;border-left: 1px solid gray;box-sizing: border-box;top: 0;bottom: 0;left: 50%;z-index: 0;}#sk-container-id-14 div.sk-serial {display: flex;flex-direction: column;align-items: center;background-color: white;padding-right: 0.2em;padding-left: 0.2em;position: relative;}#sk-container-id-14 div.sk-item {position: relative;z-index: 1;}#sk-container-id-14 div.sk-parallel {display: flex;align-items: stretch;justify-content: center;background-color: white;position: relative;}#sk-container-id-14 div.sk-item::before, #sk-container-id-14 div.sk-parallel-item::before {content: \"\";position: absolute;border-left: 1px solid gray;box-sizing: border-box;top: 0;bottom: 0;left: 50%;z-index: -1;}#sk-container-id-14 div.sk-parallel-item {display: flex;flex-direction: column;z-index: 1;position: relative;background-color: white;}#sk-container-id-14 div.sk-parallel-item:first-child::after {align-self: flex-end;width: 50%;}#sk-container-id-14 div.sk-parallel-item:last-child::after {align-self: flex-start;width: 50%;}#sk-container-id-14 div.sk-parallel-item:only-child::after {width: 0;}#sk-container-id-14 div.sk-dashed-wrapped {border: 1px dashed gray;margin: 0 0.4em 0.5em 0.4em;box-sizing: border-box;padding-bottom: 0.4em;background-color: white;}#sk-container-id-14 div.sk-label label {font-family: monospace;font-weight: bold;display: inline-block;line-height: 1.2em;}#sk-container-id-14 div.sk-label-container {text-align: center;}#sk-container-id-14 div.sk-container {/* jupyter's `normalize.less` sets `[hidden] { display: none; }` but bootstrap.min.css set `[hidden] { display: none !important; }` so we also need the `!important` here to be able to override the default hidden behavior on the sphinx rendered scikit-learn.org. See: https://github.com/scikit-learn/scikit-learn/issues/21755 */display: inline-block !important;position: relative;}#sk-container-id-14 div.sk-text-repr-fallback {display: none;}</style><div id=\"sk-container-id-14\" class=\"sk-top-container\"><div class=\"sk-text-repr-fallback\"><pre>RandomForestRegressor(random_state=0)</pre><b>In a Jupyter environment, please rerun this cell to show the HTML representation or trust the notebook. <br />On GitHub, the HTML representation is unable to render, please try loading this page with nbviewer.org.</b></div><div class=\"sk-container\" hidden><div class=\"sk-item\"><div class=\"sk-estimator sk-toggleable\"><input class=\"sk-toggleable__control sk-hidden--visually\" id=\"sk-estimator-id-14\" type=\"checkbox\" checked><label for=\"sk-estimator-id-14\" class=\"sk-toggleable__label sk-toggleable__label-arrow\">RandomForestRegressor</label><div class=\"sk-toggleable__content\"><pre>RandomForestRegressor(random_state=0)</pre></div></div></div></div></div>"
            ]
          },
          "metadata": {},
          "execution_count": 155
        }
      ]
    },
    {
      "cell_type": "code",
      "source": [
        "def getSpeaker(speaker):\n",
        "     speaker = str(speaker)\n",
        "     if speaker == \"0\":\n",
        "        return \"Aiman\"\n",
        "     elif speaker == \"1\":\n",
        "        return \"Sakshi\"\n",
        "     elif speaker == \"2\":\n",
        "           return \"Ino\"\n",
        "     elif speaker == \"3\":\n",
        "           return \"Juo\"   \n",
        "     elif speaker == \"4\":\n",
        "           return \"Hani\"\n",
        "     elif speaker == \"5\":\n",
        "           return \"Zoya\"\n",
        "     elif speaker == \"6\":\n",
        "          return \"Maan\"  \n",
        "     elif speaker == \"7\":\n",
        "           return \"Khyati\"                     \n",
        "     else: \n",
        "         return \"Unknown\"\n",
        "\n",
        "\n",
        "        \n",
        "def printPrediction(X_data, y_data, printDigit):\n",
        "    print('\\n# Generate predictions')\n",
        "    for i in range(len(y_data)):\n",
        "        help = int(regressor.predict(X_data[i:i+1]))\n",
        "        prediction = getSpeaker(help)\n",
        "        print(prediction)\n",
        "        speaker = getSpeaker(int(y_data[i]))\n",
        "        if printDigit == True:\n",
        "            print(\"Number={0:d}, y={1:10s}- prediction={2:10s}- match={3}\".format(i, speaker, prediction, speaker==prediction))\n",
        "        else:\n",
        "            print(\"y={0:10s}- prediction={1:10s}- match={2}\".format(speaker, prediction, speaker==prediction))"
      ],
      "metadata": {
        "id": "FYHvEZcDFD-e"
      },
      "execution_count": 156,
      "outputs": []
    },
    {
      "cell_type": "code",
      "source": [
        "print(regressor.score(X_test, y_test))"
      ],
      "metadata": {
        "colab": {
          "base_uri": "https://localhost:8080/"
        },
        "id": "fnpa0u4mGVK3",
        "outputId": "997de5b8-1575-4921-e91c-43d3eafd5364"
      },
      "execution_count": 157,
      "outputs": [
        {
          "output_type": "stream",
          "name": "stdout",
          "text": [
            "0.909336442687747\n"
          ]
        }
      ]
    },
    {
      "cell_type": "code",
      "source": [
        "printPrediction(X_test[0:7], y_test[0:7], False)"
      ],
      "metadata": {
        "colab": {
          "base_uri": "https://localhost:8080/"
        },
        "id": "YbcqkIcoGYVZ",
        "outputId": "a3789c09-8a43-4526-b955-b3b9f87f6144"
      },
      "execution_count": 158,
      "outputs": [
        {
          "output_type": "stream",
          "name": "stdout",
          "text": [
            "\n",
            "# Generate predictions\n",
            "Ino\n",
            "y=Aiman     - prediction=Ino       - match=False\n",
            "Aiman\n",
            "y=Aiman     - prediction=Aiman     - match=True\n",
            "Aiman\n",
            "y=Sakshi    - prediction=Aiman     - match=False\n",
            "Maan\n",
            "y=Khyati    - prediction=Maan      - match=False\n",
            "Zoya\n",
            "y=Maan      - prediction=Zoya      - match=False\n",
            "Maan\n",
            "y=Maan      - prediction=Maan      - match=True\n",
            "Maan\n",
            "y=Maan      - prediction=Maan      - match=True\n"
          ]
        }
      ]
    },
    {
      "cell_type": "code",
      "source": [
        "plt.plot(y_test[0:10], color = 'blue') \n",
        "plt.plot(regressor.predict(X_test[0:10]), color = 'green')\n",
        "plt.title(\"Random forest regression\")"
      ],
      "metadata": {
        "colab": {
          "base_uri": "https://localhost:8080/",
          "height": 299
        },
        "id": "avOonF3oPbMu",
        "outputId": "eb74ed65-de08-4d98-9050-3859dc6c5d51"
      },
      "execution_count": 159,
      "outputs": [
        {
          "output_type": "execute_result",
          "data": {
            "text/plain": [
              "Text(0.5, 1.0, 'Random forest regression')"
            ]
          },
          "metadata": {},
          "execution_count": 159
        },
        {
          "output_type": "display_data",
          "data": {
            "text/plain": [
              "<Figure size 432x288 with 1 Axes>"
            ],
            "image/png": "[encoded data removed]"
          },
          "metadata": {
            "needs_background": "light"
          }
        }
      ]
    },
    {
      "cell_type": "code",
      "source": [
        "from sklearn.neighbors import KNeighborsClassifier\n",
        "knn = KNeighborsClassifier(n_neighbors=7)\n",
        "  \n",
        "knn.fit(X_train, y_train)"
      ],
      "metadata": {
        "colab": {
          "base_uri": "https://localhost:8080/",
          "height": 131
        },
        "id": "ZF8jJtb_PdJr",
        "outputId": "ca3f311d-5993-4afc-94b5-47187ce7358c"
      },
      "execution_count": 160,
      "outputs": [
        {
          "output_type": "stream",
          "name": "stderr",
          "text": [
            "/usr/local/lib/python3.8/dist-packages/sklearn/neighbors/_classification.py:215: DataConversionWarning: A column-vector y was passed when a 1d array was expected. Please change the shape of y to (n_samples,), for example using ravel().\n",
            "  return self._fit(X, y)\n"
          ]
        },
        {
          "output_type": "execute_result",
          "data": {
            "text/plain": [
              "KNeighborsClassifier(n_neighbors=7)"
            ],
            "text/html": [
              "<style>#sk-container-id-15 {color: black;background-color: white;}#sk-container-id-15 pre{padding: 0;}#sk-container-id-15 div.sk-toggleable {background-color: white;}#sk-container-id-15 label.sk-toggleable__label {cursor: pointer;display: block;width: 100%;margin-bottom: 0;padding: 0.3em;box-sizing: border-box;text-align: center;}#sk-container-id-15 label.sk-toggleable__label-arrow:before {content: \"▸\";float: left;margin-right: 0.25em;color: #696969;}#sk-container-id-15 label.sk-toggleable__label-arrow:hover:before {color: black;}#sk-container-id-15 div.sk-estimator:hover label.sk-toggleable__label-arrow:before {color: black;}#sk-container-id-15 div.sk-toggleable__content {max-height: 0;max-width: 0;overflow: hidden;text-align: left;background-color: #f0f8ff;}#sk-container-id-15 div.sk-toggleable__content pre {margin: 0.2em;color: black;border-radius: 0.25em;background-color: #f0f8ff;}#sk-container-id-15 input.sk-toggleable__control:checked~div.sk-toggleable__content {max-height: 200px;max-width: 100%;overflow: auto;}#sk-container-id-15 input.sk-toggleable__control:checked~label.sk-toggleable__label-arrow:before {content: \"▾\";}#sk-container-id-15 div.sk-estimator input.sk-toggleable__control:checked~label.sk-toggleable__label {background-color: #d4ebff;}#sk-container-id-15 div.sk-label input.sk-toggleable__control:checked~label.sk-toggleable__label {background-color: #d4ebff;}#sk-container-id-15 input.sk-hidden--visually {border: 0;clip: rect(1px 1px 1px 1px);clip: rect(1px, 1px, 1px, 1px);height: 1px;margin: -1px;overflow: hidden;padding: 0;position: absolute;width: 1px;}#sk-container-id-15 div.sk-estimator {font-family: monospace;background-color: #f0f8ff;border: 1px dotted black;border-radius: 0.25em;box-sizing: border-box;margin-bottom: 0.5em;}#sk-container-id-15 div.sk-estimator:hover {background-color: #d4ebff;}#sk-container-id-15 div.sk-parallel-item::after {content: \"\";width: 100%;border-bottom: 1px solid gray;flex-grow: 1;}#sk-container-id-15 div.sk-label:hover label.sk-toggleable__label {background-color: #d4ebff;}#sk-container-id-15 div.sk-serial::before {content: \"\";position: absolute;border-left: 1px solid gray;box-sizing: border-box;top: 0;bottom: 0;left: 50%;z-index: 0;}#sk-container-id-15 div.sk-serial {display: flex;flex-direction: column;align-items: center;background-color: white;padding-right: 0.2em;padding-left: 0.2em;position: relative;}#sk-container-id-15 div.sk-item {position: relative;z-index: 1;}#sk-container-id-15 div.sk-parallel {display: flex;align-items: stretch;justify-content: center;background-color: white;position: relative;}#sk-container-id-15 div.sk-item::before, #sk-container-id-15 div.sk-parallel-item::before {content: \"\";position: absolute;border-left: 1px solid gray;box-sizing: border-box;top: 0;bottom: 0;left: 50%;z-index: -1;}#sk-container-id-15 div.sk-parallel-item {display: flex;flex-direction: column;z-index: 1;position: relative;background-color: white;}#sk-container-id-15 div.sk-parallel-item:first-child::after {align-self: flex-end;width: 50%;}#sk-container-id-15 div.sk-parallel-item:last-child::after {align-self: flex-start;width: 50%;}#sk-container-id-15 div.sk-parallel-item:only-child::after {width: 0;}#sk-container-id-15 div.sk-dashed-wrapped {border: 1px dashed gray;margin: 0 0.4em 0.5em 0.4em;box-sizing: border-box;padding-bottom: 0.4em;background-color: white;}#sk-container-id-15 div.sk-label label {font-family: monospace;font-weight: bold;display: inline-block;line-height: 1.2em;}#sk-container-id-15 div.sk-label-container {text-align: center;}#sk-container-id-15 div.sk-container {/* jupyter's `normalize.less` sets `[hidden] { display: none; }` but bootstrap.min.css set `[hidden] { display: none !important; }` so we also need the `!important` here to be able to override the default hidden behavior on the sphinx rendered scikit-learn.org. See: https://github.com/scikit-learn/scikit-learn/issues/21755 */display: inline-block !important;position: relative;}#sk-container-id-15 div.sk-text-repr-fallback {display: none;}</style><div id=\"sk-container-id-15\" class=\"sk-top-container\"><div class=\"sk-text-repr-fallback\"><pre>KNeighborsClassifier(n_neighbors=7)</pre><b>In a Jupyter environment, please rerun this cell to show the HTML representation or trust the notebook. <br />On GitHub, the HTML representation is unable to render, please try loading this page with nbviewer.org.</b></div><div class=\"sk-container\" hidden><div class=\"sk-item\"><div class=\"sk-estimator sk-toggleable\"><input class=\"sk-toggleable__control sk-hidden--visually\" id=\"sk-estimator-id-15\" type=\"checkbox\" checked><label for=\"sk-estimator-id-15\" class=\"sk-toggleable__label sk-toggleable__label-arrow\">KNeighborsClassifier</label><div class=\"sk-toggleable__content\"><pre>KNeighborsClassifier(n_neighbors=7)</pre></div></div></div></div></div>"
            ]
          },
          "metadata": {},
          "execution_count": 160
        }
      ]
    },
    {
      "cell_type": "code",
      "source": [
        "# Calculate the accuracy of the model\n",
        "print(knn.score(X_test, y_test))"
      ],
      "metadata": {
        "colab": {
          "base_uri": "https://localhost:8080/"
        },
        "id": "VNqBWxtKPhqK",
        "outputId": "817acb52-f5c5-48ce-9388-a857106dbcc7"
      },
      "execution_count": 161,
      "outputs": [
        {
          "output_type": "stream",
          "name": "stdout",
          "text": [
            "0.42857142857142855\n"
          ]
        }
      ]
    },
    {
      "cell_type": "code",
      "source": [
        "plt.plot(y_test[0:10], color = 'blue') \n",
        "plt.plot(knn.predict(X_test[0:10]), color = 'green')\n",
        "plt.title(\"KNN\")"
      ],
      "metadata": {
        "colab": {
          "base_uri": "https://localhost:8080/",
          "height": 299
        },
        "id": "VnKwb46sPkLt",
        "outputId": "3f79646f-110e-45e3-befe-f447bc2e0e53"
      },
      "execution_count": 162,
      "outputs": [
        {
          "output_type": "execute_result",
          "data": {
            "text/plain": [
              "Text(0.5, 1.0, 'KNN')"
            ]
          },
          "metadata": {},
          "execution_count": 162
        },
        {
          "output_type": "display_data",
          "data": {
            "text/plain": [
              "<Figure size 432x288 with 1 Axes>"
            ],
            "image/png": "[encoded data removed]"
          },
          "metadata": {
            "needs_background": "light"
          }
        }
      ]
    },
    {
      "cell_type": "code",
      "source": [
        "import tensorflow as tf\n",
        "import numpy as np\n",
        "from tensorflow.keras.models import Sequential\n",
        "from tensorflow.keras.layers import Flatten\n",
        "from tensorflow.keras.layers import Dense\n",
        "from tensorflow.keras.layers import Activation\n",
        "import matplotlib.pyplot as plt"
      ],
      "metadata": {
        "id": "GCRA0wYJPncW"
      },
      "execution_count": 163,
      "outputs": []
    },
    {
      "cell_type": "code",
      "source": [
        "from sklearn.neural_network import MLPClassifier\n",
        "from sklearn.neighbors import KNeighborsClassifier\n",
        "from sklearn.ensemble import GradientBoostingClassifier, RandomForestClassifier\n",
        "from sklearn.metrics import classification_report, confusion_matrix"
      ],
      "metadata": {
        "id": "P2---gaBPu2t"
      },
      "execution_count": 164,
      "outputs": []
    },
    {
      "cell_type": "code",
      "source": [
        "clf = MLPClassifier(random_state=1, max_iter=300).fit(X_train, y_train)"
      ],
      "metadata": {
        "colab": {
          "base_uri": "https://localhost:8080/"
        },
        "id": "rryBIMs_PyrV",
        "outputId": "39deff50-b65e-4dcd-dcdc-28570e3d60dd"
      },
      "execution_count": 165,
      "outputs": [
        {
          "output_type": "stream",
          "name": "stderr",
          "text": [
            "/usr/local/lib/python3.8/dist-packages/sklearn/neural_network/_multilayer_perceptron.py:1096: DataConversionWarning: A column-vector y was passed when a 1d array was expected. Please change the shape of y to (n_samples, ), for example using ravel().\n",
            "  y = column_or_1d(y, warn=True)\n"
          ]
        }
      ]
    },
    {
      "cell_type": "code",
      "source": [
        "print(clf.score(X_test, y_test))"
      ],
      "metadata": {
        "colab": {
          "base_uri": "https://localhost:8080/"
        },
        "id": "VjdD33GGPzYA",
        "outputId": "5c332859-c1f8-46de-cb4c-46be713459b2"
      },
      "execution_count": 166,
      "outputs": [
        {
          "output_type": "stream",
          "name": "stdout",
          "text": [
            "0.0\n"
          ]
        }
      ]
    },
    {
      "cell_type": "code",
      "source": [
        "plt.plot(y_test[0:10], color = 'blue') \n",
        "plt.plot(clf.predict(X_test[0:10]), color = 'green')\n",
        "plt.title(\"CLF\")"
      ],
      "metadata": {
        "colab": {
          "base_uri": "https://localhost:8080/",
          "height": 299
        },
        "id": "h6AxqcykP1Yx",
        "outputId": "40810454-51bd-475b-ce5c-6f0e2f4ad9de"
      },
      "execution_count": 167,
      "outputs": [
        {
          "output_type": "execute_result",
          "data": {
            "text/plain": [
              "Text(0.5, 1.0, 'CLF')"
            ]
          },
          "metadata": {},
          "execution_count": 167
        },
        {
          "output_type": "display_data",
          "data": {
            "text/plain": [
              "<Figure size 432x288 with 1 Axes>"
            ],
            "image/png": "[encoded data removed]"
          },
          "metadata": {
            "needs_background": "light"
          }
        }
      ]
    },
    {
      "cell_type": "code",
      "source": [
        "from sklearn.ensemble import GradientBoostingRegressor\n",
        "SEED = 1\n",
        "gbr = GradientBoostingRegressor(n_estimators = 200, max_depth = 1, random_state = SEED)\n",
        "  \n",
        "# Fit to training set\n",
        "gbr.fit(X_train, y_train)"
      ],
      "metadata": {
        "colab": {
          "base_uri": "https://localhost:8080/",
          "height": 131
        },
        "id": "SZ4lXWbcP3E0",
        "outputId": "5d0fd9b4-0de8-465a-ab05-c2f74b69d24a"
      },
      "execution_count": 168,
      "outputs": [
        {
          "output_type": "stream",
          "name": "stderr",
          "text": [
            "/usr/local/lib/python3.8/dist-packages/sklearn/ensemble/_gb.py:437: DataConversionWarning: A column-vector y was passed when a 1d array was expected. Please change the shape of y to (n_samples, ), for example using ravel().\n",
            "  y = column_or_1d(y, warn=True)\n"
          ]
        },
        {
          "output_type": "execute_result",
          "data": {
            "text/plain": [
              "GradientBoostingRegressor(max_depth=1, n_estimators=200, random_state=1)"
            ],
            "text/html": [
              "<style>#sk-container-id-16 {color: black;background-color: white;}#sk-container-id-16 pre{padding: 0;}#sk-container-id-16 div.sk-toggleable {background-color: white;}#sk-container-id-16 label.sk-toggleable__label {cursor: pointer;display: block;width: 100%;margin-bottom: 0;padding: 0.3em;box-sizing: border-box;text-align: center;}#sk-container-id-16 label.sk-toggleable__label-arrow:before {content: \"▸\";float: left;margin-right: 0.25em;color: #696969;}#sk-container-id-16 label.sk-toggleable__label-arrow:hover:before {color: black;}#sk-container-id-16 div.sk-estimator:hover label.sk-toggleable__label-arrow:before {color: black;}#sk-container-id-16 div.sk-toggleable__content {max-height: 0;max-width: 0;overflow: hidden;text-align: left;background-color: #f0f8ff;}#sk-container-id-16 div.sk-toggleable__content pre {margin: 0.2em;color: black;border-radius: 0.25em;background-color: #f0f8ff;}#sk-container-id-16 input.sk-toggleable__control:checked~div.sk-toggleable__content {max-height: 200px;max-width: 100%;overflow: auto;}#sk-container-id-16 input.sk-toggleable__control:checked~label.sk-toggleable__label-arrow:before {content: \"▾\";}#sk-container-id-16 div.sk-estimator input.sk-toggleable__control:checked~label.sk-toggleable__label {background-color: #d4ebff;}#sk-container-id-16 div.sk-label input.sk-toggleable__control:checked~label.sk-toggleable__label {background-color: #d4ebff;}#sk-container-id-16 input.sk-hidden--visually {border: 0;clip: rect(1px 1px 1px 1px);clip: rect(1px, 1px, 1px, 1px);height: 1px;margin: -1px;overflow: hidden;padding: 0;position: absolute;width: 1px;}#sk-container-id-16 div.sk-estimator {font-family: monospace;background-color: #f0f8ff;border: 1px dotted black;border-radius: 0.25em;box-sizing: border-box;margin-bottom: 0.5em;}#sk-container-id-16 div.sk-estimator:hover {background-color: #d4ebff;}#sk-container-id-16 div.sk-parallel-item::after {content: \"\";width: 100%;border-bottom: 1px solid gray;flex-grow: 1;}#sk-container-id-16 div.sk-label:hover label.sk-toggleable__label {background-color: #d4ebff;}#sk-container-id-16 div.sk-serial::before {content: \"\";position: absolute;border-left: 1px solid gray;box-sizing: border-box;top: 0;bottom: 0;left: 50%;z-index: 0;}#sk-container-id-16 div.sk-serial {display: flex;flex-direction: column;align-items: center;background-color: white;padding-right: 0.2em;padding-left: 0.2em;position: relative;}#sk-container-id-16 div.sk-item {position: relative;z-index: 1;}#sk-container-id-16 div.sk-parallel {display: flex;align-items: stretch;justify-content: center;background-color: white;position: relative;}#sk-container-id-16 div.sk-item::before, #sk-container-id-16 div.sk-parallel-item::before {content: \"\";position: absolute;border-left: 1px solid gray;box-sizing: border-box;top: 0;bottom: 0;left: 50%;z-index: -1;}#sk-container-id-16 div.sk-parallel-item {display: flex;flex-direction: column;z-index: 1;position: relative;background-color: white;}#sk-container-id-16 div.sk-parallel-item:first-child::after {align-self: flex-end;width: 50%;}#sk-container-id-16 div.sk-parallel-item:last-child::after {align-self: flex-start;width: 50%;}#sk-container-id-16 div.sk-parallel-item:only-child::after {width: 0;}#sk-container-id-16 div.sk-dashed-wrapped {border: 1px dashed gray;margin: 0 0.4em 0.5em 0.4em;box-sizing: border-box;padding-bottom: 0.4em;background-color: white;}#sk-container-id-16 div.sk-label label {font-family: monospace;font-weight: bold;display: inline-block;line-height: 1.2em;}#sk-container-id-16 div.sk-label-container {text-align: center;}#sk-container-id-16 div.sk-container {/* jupyter's `normalize.less` sets `[hidden] { display: none; }` but bootstrap.min.css set `[hidden] { display: none !important; }` so we also need the `!important` here to be able to override the default hidden behavior on the sphinx rendered scikit-learn.org. See: https://github.com/scikit-learn/scikit-learn/issues/21755 */display: inline-block !important;position: relative;}#sk-container-id-16 div.sk-text-repr-fallback {display: none;}</style><div id=\"sk-container-id-16\" class=\"sk-top-container\"><div class=\"sk-text-repr-fallback\"><pre>GradientBoostingRegressor(max_depth=1, n_estimators=200, random_state=1)</pre><b>In a Jupyter environment, please rerun this cell to show the HTML representation or trust the notebook. <br />On GitHub, the HTML representation is unable to render, please try loading this page with nbviewer.org.</b></div><div class=\"sk-container\" hidden><div class=\"sk-item\"><div class=\"sk-estimator sk-toggleable\"><input class=\"sk-toggleable__control sk-hidden--visually\" id=\"sk-estimator-id-16\" type=\"checkbox\" checked><label for=\"sk-estimator-id-16\" class=\"sk-toggleable__label sk-toggleable__label-arrow\">GradientBoostingRegressor</label><div class=\"sk-toggleable__content\"><pre>GradientBoostingRegressor(max_depth=1, n_estimators=200, random_state=1)</pre></div></div></div></div></div>"
            ]
          },
          "metadata": {},
          "execution_count": 168
        }
      ]
    },
    {
      "cell_type": "code",
      "source": [
        "print(gbr.score(X_test, y_test))"
      ],
      "metadata": {
        "colab": {
          "base_uri": "https://localhost:8080/"
        },
        "id": "ZbELoG8DP8qV",
        "outputId": "c3d57c3e-0759-4ef9-a9a8-6030754d6d54"
      },
      "execution_count": 169,
      "outputs": [
        {
          "output_type": "stream",
          "name": "stdout",
          "text": [
            "0.934313638817124\n"
          ]
        }
      ]
    },
    {
      "cell_type": "code",
      "source": [
        "plt.plot(y_test[0:10], color = 'blue') \n",
        "plt.plot(gbr.predict(X_test[0:10]), color = 'green')\n",
        "plt.title(\"GBR\")"
      ],
      "metadata": {
        "colab": {
          "base_uri": "https://localhost:8080/",
          "height": 299
        },
        "id": "3fnrPc37P_Hr",
        "outputId": "76a5b9b1-682e-4878-964a-847605384968"
      },
      "execution_count": 170,
      "outputs": [
        {
          "output_type": "execute_result",
          "data": {
            "text/plain": [
              "Text(0.5, 1.0, 'GBR')"
            ]
          },
          "metadata": {},
          "execution_count": 170
        },
        {
          "output_type": "display_data",
          "data": {
            "text/plain": [
              "<Figure size 432x288 with 1 Axes>"
            ],
            "image/png": "[encoded data removed]"
          },
          "metadata": {
            "needs_background": "light"
          }
        }
      ]
    },
    {
      "cell_type": "code",
      "source": [
        "def printPrediction(X_data, y_data, printDigit):\n",
        "    print('\\n# Generate predictions')\n",
        "    for i in range(len(y_data)):\n",
        "        help = int(gbr.predict(X_data[i:i+1]))\n",
        "        prediction = getSpeaker(help)\n",
        "        print(prediction)\n",
        "        speaker = getSpeaker(int(y_data[i]))\n",
        "        if printDigit == True:\n",
        "            print(\"Number={0:d}, y={1:10s}- prediction={2:10s}- match={3}\".format(i, speaker, prediction, speaker==prediction))\n",
        "        else:\n",
        "            print(\"y={0:10s}- prediction={1:10s}- match={2}\".format(speaker, prediction, speaker==prediction))"
      ],
      "metadata": {
        "id": "fTFlnY81QA9V"
      },
      "execution_count": 171,
      "outputs": []
    },
    {
      "cell_type": "code",
      "source": [
        "from sklearn.neural_network import MLPClassifier\n",
        "from sklearn.neighbors import KNeighborsClassifier\n",
        "from sklearn.ensemble import GradientBoostingClassifier, RandomForestClassifier\n",
        "from sklearn.metrics import classification_report"
      ],
      "metadata": {
        "id": "hHFnfCYjQNLg"
      },
      "execution_count": 172,
      "outputs": []
    },
    {
      "cell_type": "code",
      "source": [
        "from sklearn.decomposition import TruncatedSVD\n",
        "from sklearn.pipeline import Pipeline\n",
        "from sklearn.compose import ColumnTransformer\n",
        "from sklearn.model_selection import train_test_split"
      ],
      "metadata": {
        "id": "Q5eZ3laSQP8A"
      },
      "execution_count": 173,
      "outputs": []
    },
    {
      "cell_type": "code",
      "source": [
        "def prepare_model(algorithm):\n",
        "    model = Pipeline(steps= [\n",
        "        ('pca', TruncatedSVD(n_components=3, random_state=12)),\n",
        "        ('modeling', algorithm)\n",
        "    ])\n",
        "    model.fit(X_train, y_train)\n",
        "    return model\n",
        "\n",
        "def prepare_classification_report(algo, model):\n",
        "    print(algo+' Report :')\n",
        "    pred = model.predict(X_test)\n",
        "    print(classification_report(y_test, pred))\n",
        "\n",
        "algorithms = [('KNN classifier', KNeighborsClassifier()), \n",
        "              ('Random Forest classifier', RandomForestClassifier()), \n",
        "              ('Gradientboost classifier',GradientBoostingClassifier()),\n",
        "              ('MLP', MLPClassifier())\n",
        "             ]\n",
        "\n",
        "trained_models = []\n",
        "model_and_score = {}\n",
        "\n",
        "for index, tup in enumerate(algorithms):\n",
        "    model = prepare_model(tup[1])\n",
        "    model_and_score[tup[0]] = str(model.score(X_train,y_train)*100)+\"%\"\n",
        "    trained_models.append((tup[0],model))\n",
        "\n",
        "for index, tup in enumerate(trained_models):\n",
        "    prepare_classification_report(tup[0], tup[1])\n",
        "    print(\"\\n\")\n"
      ],
      "metadata": {
        "colab": {
          "base_uri": "https://localhost:8080/"
        },
        "id": "uIQwpXejQSXd",
        "outputId": "a9439865-f558-45fc-a2f8-69414bb441cc"
      },
      "execution_count": 174,
      "outputs": [
        {
          "output_type": "stream",
          "name": "stderr",
          "text": [
            "/usr/local/lib/python3.8/dist-packages/sklearn/neighbors/_classification.py:215: DataConversionWarning: A column-vector y was passed when a 1d array was expected. Please change the shape of y to (n_samples,), for example using ravel().\n",
            "  return self._fit(X, y)\n",
            "/usr/local/lib/python3.8/dist-packages/sklearn/pipeline.py:405: DataConversionWarning: A column-vector y was passed when a 1d array was expected. Please change the shape of y to (n_samples,), for example using ravel().\n",
            "  self._final_estimator.fit(Xt, y, **fit_params_last_step)\n",
            "/usr/local/lib/python3.8/dist-packages/sklearn/ensemble/_gb.py:437: DataConversionWarning: A column-vector y was passed when a 1d array was expected. Please change the shape of y to (n_samples, ), for example using ravel().\n",
            "  y = column_or_1d(y, warn=True)\n",
            "/usr/local/lib/python3.8/dist-packages/sklearn/neural_network/_multilayer_perceptron.py:1096: DataConversionWarning: A column-vector y was passed when a 1d array was expected. Please change the shape of y to (n_samples, ), for example using ravel().\n",
            "  y = column_or_1d(y, warn=True)\n",
            "/usr/local/lib/python3.8/dist-packages/sklearn/metrics/_classification.py:1344: UndefinedMetricWarning: Precision and F-score are ill-defined and being set to 0.0 in labels with no predicted samples. Use `zero_division` parameter to control this behavior.\n",
            "  _warn_prf(average, modifier, msg_start, len(result))\n",
            "/usr/local/lib/python3.8/dist-packages/sklearn/metrics/_classification.py:1344: UndefinedMetricWarning: Recall and F-score are ill-defined and being set to 0.0 in labels with no true samples. Use `zero_division` parameter to control this behavior.\n",
            "  _warn_prf(average, modifier, msg_start, len(result))\n",
            "/usr/local/lib/python3.8/dist-packages/sklearn/metrics/_classification.py:1344: UndefinedMetricWarning: Precision and F-score are ill-defined and being set to 0.0 in labels with no predicted samples. Use `zero_division` parameter to control this behavior.\n",
            "  _warn_prf(average, modifier, msg_start, len(result))\n",
            "/usr/local/lib/python3.8/dist-packages/sklearn/metrics/_classification.py:1344: UndefinedMetricWarning: Recall and F-score are ill-defined and being set to 0.0 in labels with no true samples. Use `zero_division` parameter to control this behavior.\n",
            "  _warn_prf(average, modifier, msg_start, len(result))\n",
            "/usr/local/lib/python3.8/dist-packages/sklearn/metrics/_classification.py:1344: UndefinedMetricWarning: Precision and F-score are ill-defined and being set to 0.0 in labels with no predicted samples. Use `zero_division` parameter to control this behavior.\n",
            "  _warn_prf(average, modifier, msg_start, len(result))\n",
            "/usr/local/lib/python3.8/dist-packages/sklearn/metrics/_classification.py:1344: UndefinedMetricWarning: Recall and F-score are ill-defined and being set to 0.0 in labels with no true samples. Use `zero_division` parameter to control this behavior.\n",
            "  _warn_prf(average, modifier, msg_start, len(result))\n",
            "/usr/local/lib/python3.8/dist-packages/sklearn/metrics/_classification.py:1344: UndefinedMetricWarning: Recall and F-score are ill-defined and being set to 0.0 in labels with no true samples. Use `zero_division` parameter to control this behavior.\n",
            "  _warn_prf(average, modifier, msg_start, len(result))\n",
            "/usr/local/lib/python3.8/dist-packages/sklearn/metrics/_classification.py:1344: UndefinedMetricWarning: Recall and F-score are ill-defined and being set to 0.0 in labels with no true samples. Use `zero_division` parameter to control this behavior.\n",
            "  _warn_prf(average, modifier, msg_start, len(result))\n",
            "/usr/local/lib/python3.8/dist-packages/sklearn/metrics/_classification.py:1344: UndefinedMetricWarning: Recall and F-score are ill-defined and being set to 0.0 in labels with no true samples. Use `zero_division` parameter to control this behavior.\n",
            "  _warn_prf(average, modifier, msg_start, len(result))\n",
            "/usr/local/lib/python3.8/dist-packages/sklearn/metrics/_classification.py:1344: UndefinedMetricWarning: Precision and F-score are ill-defined and being set to 0.0 in labels with no predicted samples. Use `zero_division` parameter to control this behavior.\n",
            "  _warn_prf(average, modifier, msg_start, len(result))\n",
            "/usr/local/lib/python3.8/dist-packages/sklearn/metrics/_classification.py:1344: UndefinedMetricWarning: Recall and F-score are ill-defined and being set to 0.0 in labels with no true samples. Use `zero_division` parameter to control this behavior.\n",
            "  _warn_prf(average, modifier, msg_start, len(result))\n",
            "/usr/local/lib/python3.8/dist-packages/sklearn/metrics/_classification.py:1344: UndefinedMetricWarning: Precision and F-score are ill-defined and being set to 0.0 in labels with no predicted samples. Use `zero_division` parameter to control this behavior.\n",
            "  _warn_prf(average, modifier, msg_start, len(result))\n",
            "/usr/local/lib/python3.8/dist-packages/sklearn/metrics/_classification.py:1344: UndefinedMetricWarning: Recall and F-score are ill-defined and being set to 0.0 in labels with no true samples. Use `zero_division` parameter to control this behavior.\n",
            "  _warn_prf(average, modifier, msg_start, len(result))\n",
            "/usr/local/lib/python3.8/dist-packages/sklearn/metrics/_classification.py:1344: UndefinedMetricWarning: Precision and F-score are ill-defined and being set to 0.0 in labels with no predicted samples. Use `zero_division` parameter to control this behavior.\n",
            "  _warn_prf(average, modifier, msg_start, len(result))\n",
            "/usr/local/lib/python3.8/dist-packages/sklearn/metrics/_classification.py:1344: UndefinedMetricWarning: Recall and F-score are ill-defined and being set to 0.0 in labels with no true samples. Use `zero_division` parameter to control this behavior.\n",
            "  _warn_prf(average, modifier, msg_start, len(result))\n",
            "/usr/local/lib/python3.8/dist-packages/sklearn/metrics/_classification.py:1344: UndefinedMetricWarning: Precision and F-score are ill-defined and being set to 0.0 in labels with no predicted samples. Use `zero_division` parameter to control this behavior.\n",
            "  _warn_prf(average, modifier, msg_start, len(result))\n",
            "/usr/local/lib/python3.8/dist-packages/sklearn/metrics/_classification.py:1344: UndefinedMetricWarning: Recall and F-score are ill-defined and being set to 0.0 in labels with no true samples. Use `zero_division` parameter to control this behavior.\n",
            "  _warn_prf(average, modifier, msg_start, len(result))\n"
          ]
        },
        {
          "output_type": "stream",
          "name": "stdout",
          "text": [
            "KNN classifier Report :\n",
            "              precision    recall  f1-score   support\n",
            "\n",
            "         0.0       0.25      0.50      0.33         2\n",
            "         1.0       0.50      0.67      0.57         3\n",
            "         2.0       0.00      0.00      0.00         0\n",
            "         3.0       0.00      0.00      0.00         0\n",
            "         4.0       0.00      0.00      0.00         2\n",
            "         5.0       1.00      0.50      0.67         2\n",
            "         6.0       0.00      0.00      0.00         3\n",
            "         7.0       1.00      0.50      0.67         2\n",
            "\n",
            "    accuracy                           0.36        14\n",
            "   macro avg       0.34      0.27      0.28        14\n",
            "weighted avg       0.43      0.36      0.36        14\n",
            "\n",
            "\n",
            "\n",
            "Random Forest classifier Report :\n",
            "              precision    recall  f1-score   support\n",
            "\n",
            "         0.0       0.50      0.50      0.50         2\n",
            "         1.0       0.50      0.67      0.57         3\n",
            "         2.0       0.00      0.00      0.00         0\n",
            "         3.0       0.00      0.00      0.00         0\n",
            "         4.0       1.00      0.50      0.67         2\n",
            "         5.0       1.00      1.00      1.00         2\n",
            "         6.0       1.00      0.33      0.50         3\n",
            "         7.0       0.00      0.00      0.00         2\n",
            "\n",
            "    accuracy                           0.50        14\n",
            "   macro avg       0.50      0.38      0.40        14\n",
            "weighted avg       0.68      0.50      0.54        14\n",
            "\n",
            "\n",
            "\n",
            "Gradientboost classifier Report :\n",
            "              precision    recall  f1-score   support\n",
            "\n",
            "         0.0       0.33      0.50      0.40         2\n",
            "         1.0       0.67      0.67      0.67         3\n",
            "         2.0       0.00      0.00      0.00         0\n",
            "         3.0       0.00      0.00      0.00         0\n",
            "         4.0       0.00      0.00      0.00         2\n",
            "         5.0       0.00      0.00      0.00         2\n",
            "         6.0       0.50      0.33      0.40         3\n",
            "         7.0       0.00      0.00      0.00         2\n",
            "\n",
            "    accuracy                           0.29        14\n",
            "   macro avg       0.19      0.19      0.18        14\n",
            "weighted avg       0.30      0.29      0.29        14\n",
            "\n",
            "\n",
            "\n",
            "MLP Report :\n",
            "              precision    recall  f1-score   support\n",
            "\n",
            "         0.0       0.00      0.00      0.00       2.0\n",
            "         1.0       0.00      0.00      0.00       3.0\n",
            "         2.0       0.00      0.00      0.00       0.0\n",
            "         4.0       0.00      0.00      0.00       2.0\n",
            "         5.0       0.00      0.00      0.00       2.0\n",
            "         6.0       0.00      0.00      0.00       3.0\n",
            "         7.0       0.00      0.00      0.00       2.0\n",
            "\n",
            "    accuracy                           0.00      14.0\n",
            "   macro avg       0.00      0.00      0.00      14.0\n",
            "weighted avg       0.00      0.00      0.00      14.0\n",
            "\n",
            "\n",
            "\n"
          ]
        },
        {
          "output_type": "stream",
          "name": "stderr",
          "text": [
            "/usr/local/lib/python3.8/dist-packages/sklearn/metrics/_classification.py:1344: UndefinedMetricWarning: Precision and F-score are ill-defined and being set to 0.0 in labels with no predicted samples. Use `zero_division` parameter to control this behavior.\n",
            "  _warn_prf(average, modifier, msg_start, len(result))\n",
            "/usr/local/lib/python3.8/dist-packages/sklearn/metrics/_classification.py:1344: UndefinedMetricWarning: Recall and F-score are ill-defined and being set to 0.0 in labels with no true samples. Use `zero_division` parameter to control this behavior.\n",
            "  _warn_prf(average, modifier, msg_start, len(result))\n",
            "/usr/local/lib/python3.8/dist-packages/sklearn/metrics/_classification.py:1344: UndefinedMetricWarning: Precision and F-score are ill-defined and being set to 0.0 in labels with no predicted samples. Use `zero_division` parameter to control this behavior.\n",
            "  _warn_prf(average, modifier, msg_start, len(result))\n",
            "/usr/local/lib/python3.8/dist-packages/sklearn/metrics/_classification.py:1344: UndefinedMetricWarning: Recall and F-score are ill-defined and being set to 0.0 in labels with no true samples. Use `zero_division` parameter to control this behavior.\n",
            "  _warn_prf(average, modifier, msg_start, len(result))\n"
          ]
        }
      ]
    },
    {
      "cell_type": "code",
      "source": [
        "import seaborn as sns"
      ],
      "metadata": {
        "id": "_f4N7Ky1A_Kg"
      },
      "execution_count": 175,
      "outputs": []
    },
    {
      "cell_type": "code",
      "source": [
        "def prepare_model(algorithm):\n",
        "    model = Pipeline(steps= [\n",
        "        ('pca', TruncatedSVD(n_components=3, random_state=12)),\n",
        "        ('modeling', algorithm)\n",
        "    ])\n",
        "    model.fit(X_train, y_train)\n",
        "    return model"
      ],
      "metadata": {
        "id": "b_KQPC0MDQ8C"
      },
      "execution_count": 176,
      "outputs": []
    },
    {
      "cell_type": "code",
      "source": [
        "def prepare_confusion_matrix(algo, model):\n",
        "    print(algo)\n",
        "    plt.figure(figsize=(12,8))\n",
        "    pred = model.predict(X_test)\n",
        "    cm = confusion_matrix(y_test, pred)\n",
        "    ax= plt.subplot()\n",
        "    sns.heatmap(cm, annot=True, fmt='g', ax=ax)\n",
        "    plt.show()\n",
        "    \n",
        "    # labels, title and ticks\n",
        "    ax.set_xlabel('Predicted labels');ax.set_ylabel('True labels'); \n",
        "    ax.set_title('Confusion Matrix'); "
      ],
      "metadata": {
        "id": "mHS6OLxsDUCl"
      },
      "execution_count": 148,
      "outputs": []
    },
    {
      "cell_type": "code",
      "source": [
        "for index, tup in enumerate(trained_models):\n",
        "      prepare_confusion_matrix(tup[0],tup[1])\n",
        "      print(\"\\n\")"
      ],
      "metadata": {
        "colab": {
          "base_uri": "https://localhost:8080/",
          "height": 1000
        },
        "id": "DI-GdMt1DWei",
        "outputId": "1c18b922-0d62-4f97-e982-d06e411b2fef"
      },
      "execution_count": 177,
      "outputs": [
        {
          "output_type": "stream",
          "name": "stdout",
          "text": [
            "KNN classifier\n"
          ]
        },
        {
          "output_type": "display_data",
          "data": {
            "text/plain": [
              "<Figure size 864x576 with 2 Axes>"
            ],
            "image/png": "[encoded data removed]"
          },
          "metadata": {
            "needs_background": "light"
          }
        },
        {
          "output_type": "stream",
          "name": "stdout",
          "text": [
            "\n",
            "\n",
            "Random Forest classifier\n"
          ]
        },
        {
          "output_type": "display_data",
          "data": {
            "text/plain": [
              "<Figure size 864x576 with 2 Axes>"
            ],
            "image/png": "[encoded data removed]"
          },
          "metadata": {
            "needs_background": "light"
          }
        },
        {
          "output_type": "stream",
          "name": "stdout",
          "text": [
            "\n",
            "\n",
            "Gradientboost classifier\n"
          ]
        },
        {
          "output_type": "display_data",
          "data": {
            "text/plain": [
              "<Figure size 864x576 with 2 Axes>"
            ],
            "image/png": "[encoded data removed]"
          },
          "metadata": {
            "needs_background": "light"
          }
        },
        {
          "output_type": "stream",
          "name": "stdout",
          "text": [
            "\n",
            "\n",
            "MLP\n"
          ]
        },
        {
          "output_type": "display_data",
          "data": {
            "text/plain": [
              "<Figure size 864x576 with 2 Axes>"
            ],
            "image/png": "[encoded data removed]"
          },
          "metadata": {
            "needs_background": "light"
          }
        },
        {
          "output_type": "stream",
          "name": "stdout",
          "text": [
            "\n",
            "\n"
          ]
        }
      ]
    },
    {
      "cell_type": "code",
      "source": [
        "print(model_and_score)\n"
      ],
      "metadata": {
        "colab": {
          "base_uri": "https://localhost:8080/"
        },
        "id": "PmbILqesDbR8",
        "outputId": "ab2df26d-5ca4-4262-93ce-cee77c3d52a9"
      },
      "execution_count": 178,
      "outputs": [
        {
          "output_type": "stream",
          "name": "stdout",
          "text": [
            "{'KNN classifier': '47.2972972972973%', 'Random Forest classifier': '100.0%', 'Gradientboost classifier': '100.0%', 'MLP': '16.216216216216218%'}\n"
          ]
        }
      ]
    }
  ]
}